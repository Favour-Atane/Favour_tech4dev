{
 "cells": [
  {
   "cell_type": "markdown",
   "id": "48a35b11",
   "metadata": {},
   "source": [
    "our goals for EDA is to explore the data\n",
    "and find insights. The purpose of EDA is to \n",
    "1. maximimise insights into a dataset\n",
    "2. see any underlyinng structures\n",
    "3. identify the important variables or feature\n",
    "4. detect outliers\n",
    "5. test your underlying assumptions"
   ]
  },
  {
   "cell_type": "markdown",
   "id": "120ef8d9",
   "metadata": {},
   "source": [
    "#### what we'll be doing in this notebook\n",
    "1. check variable types\n",
    "2. check for missing values\n",
    "3. look at the no and sensibility of observation in the dataset\n",
    "4. describe the data\n",
    "5. investigate some plotting techniques"
   ]
  },
  {
   "cell_type": "markdown",
   "id": "2a33f361",
   "metadata": {},
   "source": [
    "#### Import packages"
   ]
  },
  {
   "cell_type": "code",
   "execution_count": 24,
   "id": "6043f80e",
   "metadata": {},
   "outputs": [],
   "source": [
    "import pandas as pd\n",
    "import numpy as np\n",
    "import seaborn as sns\n",
    "import matplotlib.pyplot as plt\n",
    "from datetime import datetime\n",
    "import dateutil.parser\n",
    "import re\n",
    "\n",
    "#set jupyter to display up to 50 columns, so we can see evrything\n",
    "pd.set_option('display.max_columns', 50)\n",
    "pd.set_option('expand_frame_repr', True)\n",
    "\n",
    "sns.set_palette('hls')\n",
    "#show figures in notebook\n",
    "%matplotlib inline "
   ]
  },
  {
   "cell_type": "markdown",
   "id": "cef1cbf3",
   "metadata": {},
   "source": [
    "Read in your dataset "
   ]
  },
  {
   "cell_type": "code",
   "execution_count": 2,
   "id": "6ae8f4d0",
   "metadata": {},
   "outputs": [
    {
     "data": {
      "text/html": [
       "<div>\n",
       "<style scoped>\n",
       "    .dataframe tbody tr th:only-of-type {\n",
       "        vertical-align: middle;\n",
       "    }\n",
       "\n",
       "    .dataframe tbody tr th {\n",
       "        vertical-align: top;\n",
       "    }\n",
       "\n",
       "    .dataframe thead th {\n",
       "        text-align: right;\n",
       "    }\n",
       "</style>\n",
       "<table border=\"1\" class=\"dataframe\">\n",
       "  <thead>\n",
       "    <tr style=\"text-align: right;\">\n",
       "      <th></th>\n",
       "      <th>id_number</th>\n",
       "      <th>loan_amount</th>\n",
       "      <th>lender_count</th>\n",
       "      <th>status</th>\n",
       "      <th>funded_date</th>\n",
       "      <th>funded_amount</th>\n",
       "      <th>repayment_term</th>\n",
       "      <th>location_country_code</th>\n",
       "      <th>sector</th>\n",
       "      <th>description</th>\n",
       "      <th>use</th>\n",
       "    </tr>\n",
       "  </thead>\n",
       "  <tbody>\n",
       "    <tr>\n",
       "      <th>0</th>\n",
       "      <td>736066</td>\n",
       "      <td>4825</td>\n",
       "      <td>60</td>\n",
       "      <td>funded</td>\n",
       "      <td>2014-08-03T17:51:50Z</td>\n",
       "      <td>4825</td>\n",
       "      <td>8</td>\n",
       "      <td>BJ</td>\n",
       "      <td>Retail</td>\n",
       "      <td>NaN</td>\n",
       "      <td>NaN</td>\n",
       "    </tr>\n",
       "    <tr>\n",
       "      <th>1</th>\n",
       "      <td>743090</td>\n",
       "      <td>975</td>\n",
       "      <td>34</td>\n",
       "      <td>funded</td>\n",
       "      <td>2014-08-18T09:10:54Z</td>\n",
       "      <td>975</td>\n",
       "      <td>12</td>\n",
       "      <td>BJ</td>\n",
       "      <td>Food</td>\n",
       "      <td>NaN</td>\n",
       "      <td>NaN</td>\n",
       "    </tr>\n",
       "    <tr>\n",
       "      <th>2</th>\n",
       "      <td>743120</td>\n",
       "      <td>950</td>\n",
       "      <td>25</td>\n",
       "      <td>funded</td>\n",
       "      <td>2014-08-09T17:46:35Z</td>\n",
       "      <td>950</td>\n",
       "      <td>14</td>\n",
       "      <td>BJ</td>\n",
       "      <td>Services</td>\n",
       "      <td>NaN</td>\n",
       "      <td>NaN</td>\n",
       "    </tr>\n",
       "    <tr>\n",
       "      <th>3</th>\n",
       "      <td>743121</td>\n",
       "      <td>825</td>\n",
       "      <td>28</td>\n",
       "      <td>funded</td>\n",
       "      <td>2014-08-24T17:00:38Z</td>\n",
       "      <td>825</td>\n",
       "      <td>14</td>\n",
       "      <td>BJ</td>\n",
       "      <td>Retail</td>\n",
       "      <td>NaN</td>\n",
       "      <td>NaN</td>\n",
       "    </tr>\n",
       "    <tr>\n",
       "      <th>4</th>\n",
       "      <td>743124</td>\n",
       "      <td>725</td>\n",
       "      <td>21</td>\n",
       "      <td>funded</td>\n",
       "      <td>2014-08-25T03:24:54Z</td>\n",
       "      <td>725</td>\n",
       "      <td>13</td>\n",
       "      <td>BJ</td>\n",
       "      <td>Retail</td>\n",
       "      <td>NaN</td>\n",
       "      <td>NaN</td>\n",
       "    </tr>\n",
       "    <tr>\n",
       "      <th>...</th>\n",
       "      <td>...</td>\n",
       "      <td>...</td>\n",
       "      <td>...</td>\n",
       "      <td>...</td>\n",
       "      <td>...</td>\n",
       "      <td>...</td>\n",
       "      <td>...</td>\n",
       "      <td>...</td>\n",
       "      <td>...</td>\n",
       "      <td>...</td>\n",
       "      <td>...</td>\n",
       "    </tr>\n",
       "    <tr>\n",
       "      <th>6014</th>\n",
       "      <td>1568871</td>\n",
       "      <td>200</td>\n",
       "      <td>8</td>\n",
       "      <td>funded</td>\n",
       "      <td>2018-07-19T15:14:35Z</td>\n",
       "      <td>200</td>\n",
       "      <td>14</td>\n",
       "      <td>ZW</td>\n",
       "      <td>Food</td>\n",
       "      <td>Sethukelo is a 19-year-old entrepreneur who li...</td>\n",
       "      <td>to purchase goods for starting a grocery store.</td>\n",
       "    </tr>\n",
       "    <tr>\n",
       "      <th>6015</th>\n",
       "      <td>1568880</td>\n",
       "      <td>200</td>\n",
       "      <td>8</td>\n",
       "      <td>funded</td>\n",
       "      <td>2018-07-19T19:22:43Z</td>\n",
       "      <td>200</td>\n",
       "      <td>14</td>\n",
       "      <td>ZW</td>\n",
       "      <td>Food</td>\n",
       "      <td>Hlanjiwe is a 20-year-old entrepreneur who liv...</td>\n",
       "      <td>to buy grocery goods for her business.</td>\n",
       "    </tr>\n",
       "    <tr>\n",
       "      <th>6016</th>\n",
       "      <td>1568883</td>\n",
       "      <td>200</td>\n",
       "      <td>6</td>\n",
       "      <td>funded</td>\n",
       "      <td>2018-07-19T20:18:53Z</td>\n",
       "      <td>200</td>\n",
       "      <td>14</td>\n",
       "      <td>ZW</td>\n",
       "      <td>Clothing</td>\n",
       "      <td>Lebuhani is a 21-year-old entrepreneur who liv...</td>\n",
       "      <td>to buy clothes for her business.</td>\n",
       "    </tr>\n",
       "    <tr>\n",
       "      <th>6017</th>\n",
       "      <td>1568887</td>\n",
       "      <td>200</td>\n",
       "      <td>8</td>\n",
       "      <td>funded</td>\n",
       "      <td>2018-07-18T23:38:44Z</td>\n",
       "      <td>200</td>\n",
       "      <td>14</td>\n",
       "      <td>ZW</td>\n",
       "      <td>Food</td>\n",
       "      <td>Jacqueline is a 23-year-old entrepreneur who l...</td>\n",
       "      <td>her to buy goods to sell in her store.</td>\n",
       "    </tr>\n",
       "    <tr>\n",
       "      <th>6018</th>\n",
       "      <td>1568890</td>\n",
       "      <td>200</td>\n",
       "      <td>8</td>\n",
       "      <td>funded</td>\n",
       "      <td>2018-07-19T16:54:18Z</td>\n",
       "      <td>200</td>\n",
       "      <td>14</td>\n",
       "      <td>ZW</td>\n",
       "      <td>Food</td>\n",
       "      <td>Delligent is a 23-year-old entrepreneur who li...</td>\n",
       "      <td>to buy grocery goods for her business.</td>\n",
       "    </tr>\n",
       "  </tbody>\n",
       "</table>\n",
       "<p>6019 rows × 11 columns</p>\n",
       "</div>"
      ],
      "text/plain": [
       "      id_number  loan_amount  lender_count  status           funded_date  \\\n",
       "0        736066         4825            60  funded  2014-08-03T17:51:50Z   \n",
       "1        743090          975            34  funded  2014-08-18T09:10:54Z   \n",
       "2        743120          950            25  funded  2014-08-09T17:46:35Z   \n",
       "3        743121          825            28  funded  2014-08-24T17:00:38Z   \n",
       "4        743124          725            21  funded  2014-08-25T03:24:54Z   \n",
       "...         ...          ...           ...     ...                   ...   \n",
       "6014    1568871          200             8  funded  2018-07-19T15:14:35Z   \n",
       "6015    1568880          200             8  funded  2018-07-19T19:22:43Z   \n",
       "6016    1568883          200             6  funded  2018-07-19T20:18:53Z   \n",
       "6017    1568887          200             8  funded  2018-07-18T23:38:44Z   \n",
       "6018    1568890          200             8  funded  2018-07-19T16:54:18Z   \n",
       "\n",
       "      funded_amount  repayment_term location_country_code    sector  \\\n",
       "0              4825               8                    BJ    Retail   \n",
       "1               975              12                    BJ      Food   \n",
       "2               950              14                    BJ  Services   \n",
       "3               825              14                    BJ    Retail   \n",
       "4               725              13                    BJ    Retail   \n",
       "...             ...             ...                   ...       ...   \n",
       "6014            200              14                    ZW      Food   \n",
       "6015            200              14                    ZW      Food   \n",
       "6016            200              14                    ZW  Clothing   \n",
       "6017            200              14                    ZW      Food   \n",
       "6018            200              14                    ZW      Food   \n",
       "\n",
       "                                            description  \\\n",
       "0                                                   NaN   \n",
       "1                                                   NaN   \n",
       "2                                                   NaN   \n",
       "3                                                   NaN   \n",
       "4                                                   NaN   \n",
       "...                                                 ...   \n",
       "6014  Sethukelo is a 19-year-old entrepreneur who li...   \n",
       "6015  Hlanjiwe is a 20-year-old entrepreneur who liv...   \n",
       "6016  Lebuhani is a 21-year-old entrepreneur who liv...   \n",
       "6017  Jacqueline is a 23-year-old entrepreneur who l...   \n",
       "6018  Delligent is a 23-year-old entrepreneur who li...   \n",
       "\n",
       "                                                  use  \n",
       "0                                                 NaN  \n",
       "1                                                 NaN  \n",
       "2                                                 NaN  \n",
       "3                                                 NaN  \n",
       "4                                                 NaN  \n",
       "...                                               ...  \n",
       "6014  to purchase goods for starting a grocery store.  \n",
       "6015           to buy grocery goods for her business.  \n",
       "6016                 to buy clothes for her business.  \n",
       "6017           her to buy goods to sell in her store.  \n",
       "6018           to buy grocery goods for her business.  \n",
       "\n",
       "[6019 rows x 11 columns]"
      ]
     },
     "execution_count": 2,
     "metadata": {},
     "output_type": "execute_result"
    }
   ],
   "source": [
    "df = pd.read_csv('loans.csv')\n",
    "df"
   ]
  },
  {
   "cell_type": "code",
   "execution_count": 3,
   "id": "3a312528",
   "metadata": {},
   "outputs": [
    {
     "data": {
      "text/html": [
       "<div>\n",
       "<style scoped>\n",
       "    .dataframe tbody tr th:only-of-type {\n",
       "        vertical-align: middle;\n",
       "    }\n",
       "\n",
       "    .dataframe tbody tr th {\n",
       "        vertical-align: top;\n",
       "    }\n",
       "\n",
       "    .dataframe thead th {\n",
       "        text-align: right;\n",
       "    }\n",
       "</style>\n",
       "<table border=\"1\" class=\"dataframe\">\n",
       "  <thead>\n",
       "    <tr style=\"text-align: right;\">\n",
       "      <th></th>\n",
       "      <th>id_number</th>\n",
       "      <th>loan_amount</th>\n",
       "      <th>lender_count</th>\n",
       "      <th>status</th>\n",
       "      <th>funded_date</th>\n",
       "      <th>funded_amount</th>\n",
       "      <th>repayment_term</th>\n",
       "      <th>location_country_code</th>\n",
       "      <th>sector</th>\n",
       "      <th>description</th>\n",
       "      <th>use</th>\n",
       "    </tr>\n",
       "  </thead>\n",
       "  <tbody>\n",
       "    <tr>\n",
       "      <th>6007</th>\n",
       "      <td>1568835</td>\n",
       "      <td>200</td>\n",
       "      <td>6</td>\n",
       "      <td>funded</td>\n",
       "      <td>2018-07-19T06:24:30Z</td>\n",
       "      <td>200</td>\n",
       "      <td>14</td>\n",
       "      <td>ZW</td>\n",
       "      <td>Agriculture</td>\n",
       "      <td>Matilda is a 20-year-old entrepreneur who live...</td>\n",
       "      <td>to start her own poultry business keeping broi...</td>\n",
       "    </tr>\n",
       "    <tr>\n",
       "      <th>2284</th>\n",
       "      <td>1564588</td>\n",
       "      <td>275</td>\n",
       "      <td>8</td>\n",
       "      <td>funded</td>\n",
       "      <td>2018-07-11T17:01:36Z</td>\n",
       "      <td>275</td>\n",
       "      <td>7</td>\n",
       "      <td>LR</td>\n",
       "      <td>Retail</td>\n",
       "      <td>Hawa is 27 years old. She is the single mother...</td>\n",
       "      <td>to buy more jewelry to sell.</td>\n",
       "    </tr>\n",
       "    <tr>\n",
       "      <th>4205</th>\n",
       "      <td>594101</td>\n",
       "      <td>675</td>\n",
       "      <td>26</td>\n",
       "      <td>funded</td>\n",
       "      <td>2013-08-31T01:35:49Z</td>\n",
       "      <td>675</td>\n",
       "      <td>63</td>\n",
       "      <td>SO</td>\n",
       "      <td>Education</td>\n",
       "      <td>NaN</td>\n",
       "      <td>NaN</td>\n",
       "    </tr>\n",
       "  </tbody>\n",
       "</table>\n",
       "</div>"
      ],
      "text/plain": [
       "      id_number  loan_amount  lender_count  status           funded_date  \\\n",
       "6007    1568835          200             6  funded  2018-07-19T06:24:30Z   \n",
       "2284    1564588          275             8  funded  2018-07-11T17:01:36Z   \n",
       "4205     594101          675            26  funded  2013-08-31T01:35:49Z   \n",
       "\n",
       "      funded_amount  repayment_term location_country_code       sector  \\\n",
       "6007            200              14                    ZW  Agriculture   \n",
       "2284            275               7                    LR       Retail   \n",
       "4205            675              63                    SO    Education   \n",
       "\n",
       "                                            description  \\\n",
       "6007  Matilda is a 20-year-old entrepreneur who live...   \n",
       "2284  Hawa is 27 years old. She is the single mother...   \n",
       "4205                                                NaN   \n",
       "\n",
       "                                                    use  \n",
       "6007  to start her own poultry business keeping broi...  \n",
       "2284                       to buy more jewelry to sell.  \n",
       "4205                                                NaN  "
      ]
     },
     "execution_count": 3,
     "metadata": {},
     "output_type": "execute_result"
    }
   ],
   "source": [
    "#lets get a random sample of our data\n",
    "#let's get 3rows\n",
    "\n",
    "df.sample(n=3)"
   ]
  },
  {
   "cell_type": "markdown",
   "id": "b2e9080c",
   "metadata": {},
   "source": [
    "#### 1) Type checking\n",
    "why is this important?\n",
    "- coz the types of a feature affect what you can do to that column\n",
    "this relates to the type of function you can apply on on the column\n",
    "- the commmon data types you will see are\n",
    "1. int\n",
    "2. float \n",
    "3. str\n",
    "4. boolean\n",
    "5. datetime\n",
    "\n",
    "\n",
    "lets check the type of our variable"
   ]
  },
  {
   "cell_type": "code",
   "execution_count": 4,
   "id": "39660681",
   "metadata": {},
   "outputs": [
    {
     "data": {
      "text/plain": [
       "['id_number',\n",
       " 'loan_amount',\n",
       " 'lender_count',\n",
       " 'status',\n",
       " 'funded_date',\n",
       " 'funded_amount',\n",
       " 'repayment_term',\n",
       " 'location_country_code',\n",
       " 'sector',\n",
       " 'description',\n",
       " 'use']"
      ]
     },
     "execution_count": 4,
     "metadata": {},
     "output_type": "execute_result"
    }
   ],
   "source": [
    "#list all the columns\n",
    "df.columns.to_list()"
   ]
  },
  {
   "cell_type": "code",
   "execution_count": 5,
   "id": "f2dabd85",
   "metadata": {},
   "outputs": [
    {
     "data": {
      "text/plain": [
       "dtype('int64')"
      ]
     },
     "execution_count": 5,
     "metadata": {},
     "output_type": "execute_result"
    }
   ],
   "source": [
    "#checking for specific column\n",
    "df['id_number'].dtype"
   ]
  },
  {
   "cell_type": "code",
   "execution_count": 6,
   "id": "f811ebca",
   "metadata": {},
   "outputs": [
    {
     "data": {
      "text/plain": [
       "dtype('int64')"
      ]
     },
     "execution_count": 6,
     "metadata": {},
     "output_type": "execute_result"
    }
   ],
   "source": [
    "df.id_number.dtype"
   ]
  },
  {
   "cell_type": "code",
   "execution_count": 7,
   "id": "6ba53fd4",
   "metadata": {},
   "outputs": [
    {
     "data": {
      "text/plain": [
       "dtype('O')"
      ]
     },
     "execution_count": 7,
     "metadata": {},
     "output_type": "execute_result"
    }
   ],
   "source": [
    "df.status.dtype"
   ]
  },
  {
   "cell_type": "code",
   "execution_count": 8,
   "id": "e49199f8",
   "metadata": {},
   "outputs": [
    {
     "data": {
      "text/plain": [
       "dtype('O')"
      ]
     },
     "execution_count": 8,
     "metadata": {},
     "output_type": "execute_result"
    }
   ],
   "source": [
    "df['status'].dtype"
   ]
  },
  {
   "cell_type": "code",
   "execution_count": 9,
   "id": "eb935e56",
   "metadata": {},
   "outputs": [
    {
     "name": "stdout",
     "output_type": "stream",
     "text": [
      "<class 'pandas.core.frame.DataFrame'>\n",
      "RangeIndex: 6019 entries, 0 to 6018\n",
      "Data columns (total 11 columns):\n",
      " #   Column                 Non-Null Count  Dtype \n",
      "---  ------                 --------------  ----- \n",
      " 0   id_number              6019 non-null   int64 \n",
      " 1   loan_amount            6019 non-null   int64 \n",
      " 2   lender_count           6019 non-null   int64 \n",
      " 3   status                 6019 non-null   object\n",
      " 4   funded_date            5082 non-null   object\n",
      " 5   funded_amount          6019 non-null   int64 \n",
      " 6   repayment_term         6019 non-null   int64 \n",
      " 7   location_country_code  6002 non-null   object\n",
      " 8   sector                 6019 non-null   object\n",
      " 9   description            5677 non-null   object\n",
      " 10  use                    5677 non-null   object\n",
      "dtypes: int64(5), object(6)\n",
      "memory usage: 517.4+ KB\n"
     ]
    }
   ],
   "source": [
    "#checking for the whole data\n",
    "df.info()"
   ]
  },
  {
   "cell_type": "code",
   "execution_count": 10,
   "id": "7932be16",
   "metadata": {},
   "outputs": [
    {
     "data": {
      "text/plain": [
       "'Sethukelo is a 19-year-old entrepreneur who lives with her mother and siblings in the Lupane District of Zimbabwe.  She is requesting a Kiva loan in order to start her own grocery business.  <br /><br />Sethukelo plans to use the profit she earns to support herself, her mother, and her siblings.  She will repay the ‘social interest’ on her loan by volunteering 2.5 hours per week as a Camfed Transition Guide.  Her responsibilities include supporting other young women who are just entering Camfed’s alumnae organization, CAMA.  She will also deliver weekly sessions of an orientation course on topics such as health, financial literacy, and career guidance.'"
      ]
     },
     "execution_count": 10,
     "metadata": {},
     "output_type": "execute_result"
    }
   ],
   "source": [
    "df.description[6014]"
   ]
  },
  {
   "cell_type": "code",
   "execution_count": 11,
   "id": "2f174860",
   "metadata": {},
   "outputs": [],
   "source": [
    "#df.info"
   ]
  },
  {
   "cell_type": "code",
   "execution_count": 12,
   "id": "7b059f66",
   "metadata": {},
   "outputs": [
    {
     "data": {
      "text/plain": [
       "array(['funded', 'fundraising', 'expired'], dtype=object)"
      ]
     },
     "execution_count": 12,
     "metadata": {},
     "output_type": "execute_result"
    }
   ],
   "source": [
    "df['status'].unique()"
   ]
  },
  {
   "cell_type": "code",
   "execution_count": 13,
   "id": "a547b2b8",
   "metadata": {},
   "outputs": [
    {
     "data": {
      "text/plain": [
       "0        8\n",
       "1       12\n",
       "2       14\n",
       "3       14\n",
       "4       13\n",
       "        ..\n",
       "6014    14\n",
       "6015    14\n",
       "6016    14\n",
       "6017    14\n",
       "6018    14\n",
       "Name: repayment_term, Length: 6019, dtype: int64"
      ]
     },
     "execution_count": 13,
     "metadata": {},
     "output_type": "execute_result"
    }
   ],
   "source": [
    "df.repayment_term"
   ]
  },
  {
   "cell_type": "markdown",
   "id": "9dfc4f36",
   "metadata": {},
   "source": [
    "#### 2) do we have missing values\n",
    "if we have mising data, is the data missing randomly\n",
    "if yes, the distribution is stil representative of thepopulation\n",
    "in this case we may ignore them...\n",
    "if the data is missing systematically, you have to be more careful about \n",
    "dealing with the missing data to avoid bias. think about how to carefully \n",
    "clean data (dropping data points, filling by group etc)"
   ]
  },
  {
   "cell_type": "code",
   "execution_count": 14,
   "id": "7138eebe",
   "metadata": {},
   "outputs": [
    {
     "data": {
      "text/plain": [
       "id_number                  0\n",
       "loan_amount                0\n",
       "lender_count               0\n",
       "status                     0\n",
       "funded_date              937\n",
       "funded_amount              0\n",
       "repayment_term             0\n",
       "location_country_code     17\n",
       "sector                     0\n",
       "description              342\n",
       "use                      342\n",
       "dtype: int64"
      ]
     },
     "execution_count": 14,
     "metadata": {},
     "output_type": "execute_result"
    }
   ],
   "source": [
    "#checking for missing value\n",
    "df.isnull().sum()"
   ]
  },
  {
   "cell_type": "code",
   "execution_count": 15,
   "id": "5787c80a",
   "metadata": {},
   "outputs": [],
   "source": [
    "#lambda is an anonymous fxn\n",
    "#the syntax is \n",
    "# lambda arguments : expression"
   ]
  },
  {
   "cell_type": "code",
   "execution_count": 16,
   "id": "82d0434d",
   "metadata": {},
   "outputs": [
    {
     "name": "stdout",
     "output_type": "stream",
     "text": [
      "Missing values per column\n",
      "funded_date              937.0\n",
      "location_country_code     17.0\n",
      "description              342.0\n",
      "use                      342.0\n",
      "dtype: float64\n"
     ]
    }
   ],
   "source": [
    "#let use a fxn \n",
    "def missing_num(x):\n",
    "    return sum(x.isna())\n",
    "\n",
    "print('Missing values per column')\n",
    "#applying our fxn by column\n",
    "#check sum of missing value by column, and get the columns where \n",
    "#the sum is not zero\n",
    "\n",
    "print(df.apply(missing_num, axis = 0).where(lambda x: x!=0).dropna())"
   ]
  },
  {
   "cell_type": "code",
   "execution_count": 17,
   "id": "6e6bdf5e",
   "metadata": {},
   "outputs": [
    {
     "name": "stdout",
     "output_type": "stream",
     "text": [
      "15\n"
     ]
    }
   ],
   "source": [
    "#lambda example\n",
    "x = lambda b: b+10\n",
    "print(x(5))"
   ]
  },
  {
   "cell_type": "markdown",
   "id": "c21863cf",
   "metadata": {},
   "source": [
    "#### 3) Sanity  checks\n",
    "###### Does the data make sense? Does it match what you expect to find\n",
    "\n",
    "- is the range of values what you would xpect? eg, all loan amounts must\n",
    "greater than zero, funded amounmt cannot be negative\n",
    "- do you have the number of rows expected\n",
    "- do you have reasonable dates. dates cannot be future and dates should notbe to far ago\n",
    "eg 1900, 1889\n",
    "-do you have unxpected spikes in any of the int columns or evern over time"
   ]
  },
  {
   "cell_type": "code",
   "execution_count": 18,
   "id": "5e37253b",
   "metadata": {},
   "outputs": [
    {
     "data": {
      "text/plain": [
       "50"
      ]
     },
     "execution_count": 18,
     "metadata": {},
     "output_type": "execute_result"
    }
   ],
   "source": [
    "#eg. checking min value for loan amnt\n",
    "df.loan_amount.min()"
   ]
  },
  {
   "cell_type": "code",
   "execution_count": 19,
   "id": "8be4349c",
   "metadata": {},
   "outputs": [
    {
     "data": {
      "text/plain": [
       "0"
      ]
     },
     "execution_count": 19,
     "metadata": {},
     "output_type": "execute_result"
    }
   ],
   "source": [
    "df.funded_amount.min()"
   ]
  },
  {
   "cell_type": "markdown",
   "id": "418d275a",
   "metadata": {},
   "source": [
    "##### 4) Descriptive stat of the dataset"
   ]
  },
  {
   "cell_type": "code",
   "execution_count": 20,
   "id": "0280bd21",
   "metadata": {},
   "outputs": [
    {
     "data": {
      "text/html": [
       "<div>\n",
       "<style scoped>\n",
       "    .dataframe tbody tr th:only-of-type {\n",
       "        vertical-align: middle;\n",
       "    }\n",
       "\n",
       "    .dataframe tbody tr th {\n",
       "        vertical-align: top;\n",
       "    }\n",
       "\n",
       "    .dataframe thead th {\n",
       "        text-align: right;\n",
       "    }\n",
       "</style>\n",
       "<table border=\"1\" class=\"dataframe\">\n",
       "  <thead>\n",
       "    <tr style=\"text-align: right;\">\n",
       "      <th></th>\n",
       "      <th>id_number</th>\n",
       "      <th>loan_amount</th>\n",
       "      <th>lender_count</th>\n",
       "      <th>funded_amount</th>\n",
       "      <th>repayment_term</th>\n",
       "    </tr>\n",
       "  </thead>\n",
       "  <tbody>\n",
       "    <tr>\n",
       "      <th>count</th>\n",
       "      <td>6.019000e+03</td>\n",
       "      <td>6019.000000</td>\n",
       "      <td>6019.000000</td>\n",
       "      <td>6019.000000</td>\n",
       "      <td>6019.000000</td>\n",
       "    </tr>\n",
       "    <tr>\n",
       "      <th>mean</th>\n",
       "      <td>1.359770e+06</td>\n",
       "      <td>1499.011464</td>\n",
       "      <td>35.661406</td>\n",
       "      <td>1325.070610</td>\n",
       "      <td>11.803290</td>\n",
       "    </tr>\n",
       "    <tr>\n",
       "      <th>std</th>\n",
       "      <td>3.719316e+05</td>\n",
       "      <td>2512.517280</td>\n",
       "      <td>73.420256</td>\n",
       "      <td>2444.726815</td>\n",
       "      <td>9.114948</td>\n",
       "    </tr>\n",
       "    <tr>\n",
       "      <th>min</th>\n",
       "      <td>1.377200e+04</td>\n",
       "      <td>50.000000</td>\n",
       "      <td>0.000000</td>\n",
       "      <td>0.000000</td>\n",
       "      <td>3.000000</td>\n",
       "    </tr>\n",
       "    <tr>\n",
       "      <th>25%</th>\n",
       "      <td>1.425188e+06</td>\n",
       "      <td>300.000000</td>\n",
       "      <td>7.000000</td>\n",
       "      <td>200.000000</td>\n",
       "      <td>8.000000</td>\n",
       "    </tr>\n",
       "    <tr>\n",
       "      <th>50%</th>\n",
       "      <td>1.550673e+06</td>\n",
       "      <td>625.000000</td>\n",
       "      <td>16.000000</td>\n",
       "      <td>525.000000</td>\n",
       "      <td>10.000000</td>\n",
       "    </tr>\n",
       "    <tr>\n",
       "      <th>75%</th>\n",
       "      <td>1.566204e+06</td>\n",
       "      <td>1825.000000</td>\n",
       "      <td>41.000000</td>\n",
       "      <td>1525.000000</td>\n",
       "      <td>14.000000</td>\n",
       "    </tr>\n",
       "    <tr>\n",
       "      <th>max</th>\n",
       "      <td>1.573593e+06</td>\n",
       "      <td>80000.000000</td>\n",
       "      <td>2665.000000</td>\n",
       "      <td>80000.000000</td>\n",
       "      <td>133.000000</td>\n",
       "    </tr>\n",
       "  </tbody>\n",
       "</table>\n",
       "</div>"
      ],
      "text/plain": [
       "          id_number   loan_amount  lender_count  funded_amount  repayment_term\n",
       "count  6.019000e+03   6019.000000   6019.000000    6019.000000     6019.000000\n",
       "mean   1.359770e+06   1499.011464     35.661406    1325.070610       11.803290\n",
       "std    3.719316e+05   2512.517280     73.420256    2444.726815        9.114948\n",
       "min    1.377200e+04     50.000000      0.000000       0.000000        3.000000\n",
       "25%    1.425188e+06    300.000000      7.000000     200.000000        8.000000\n",
       "50%    1.550673e+06    625.000000     16.000000     525.000000       10.000000\n",
       "75%    1.566204e+06   1825.000000     41.000000    1525.000000       14.000000\n",
       "max    1.573593e+06  80000.000000   2665.000000   80000.000000      133.000000"
      ]
     },
     "execution_count": 20,
     "metadata": {},
     "output_type": "execute_result"
    }
   ],
   "source": [
    "#we can check the key summaries of the dataset (numerical column)\n",
    "#using the describe method\n",
    "\n",
    "df.describe()"
   ]
  },
  {
   "cell_type": "code",
   "execution_count": 21,
   "id": "ac85e50a",
   "metadata": {},
   "outputs": [
    {
     "data": {
      "text/html": [
       "<div>\n",
       "<style scoped>\n",
       "    .dataframe tbody tr th:only-of-type {\n",
       "        vertical-align: middle;\n",
       "    }\n",
       "\n",
       "    .dataframe tbody tr th {\n",
       "        vertical-align: top;\n",
       "    }\n",
       "\n",
       "    .dataframe thead th {\n",
       "        text-align: right;\n",
       "    }\n",
       "</style>\n",
       "<table border=\"1\" class=\"dataframe\">\n",
       "  <thead>\n",
       "    <tr style=\"text-align: right;\">\n",
       "      <th></th>\n",
       "      <th>status</th>\n",
       "      <th>funded_date</th>\n",
       "      <th>location_country_code</th>\n",
       "      <th>sector</th>\n",
       "      <th>description</th>\n",
       "      <th>use</th>\n",
       "    </tr>\n",
       "  </thead>\n",
       "  <tbody>\n",
       "    <tr>\n",
       "      <th>count</th>\n",
       "      <td>6019</td>\n",
       "      <td>5082</td>\n",
       "      <td>6002</td>\n",
       "      <td>6019</td>\n",
       "      <td>5677</td>\n",
       "      <td>5677</td>\n",
       "    </tr>\n",
       "    <tr>\n",
       "      <th>unique</th>\n",
       "      <td>3</td>\n",
       "      <td>4453</td>\n",
       "      <td>30</td>\n",
       "      <td>14</td>\n",
       "      <td>5277</td>\n",
       "      <td>4325</td>\n",
       "    </tr>\n",
       "    <tr>\n",
       "      <th>top</th>\n",
       "      <td>funded</td>\n",
       "      <td>2018-07-22T15:54:41Z</td>\n",
       "      <td>TZ</td>\n",
       "      <td>Food</td>\n",
       "      <td>Zaina is 19-year-old entrepreneur who lives wi...</td>\n",
       "      <td>to pay for a stove.</td>\n",
       "    </tr>\n",
       "    <tr>\n",
       "      <th>freq</th>\n",
       "      <td>5082</td>\n",
       "      <td>9</td>\n",
       "      <td>400</td>\n",
       "      <td>1738</td>\n",
       "      <td>2</td>\n",
       "      <td>80</td>\n",
       "    </tr>\n",
       "  </tbody>\n",
       "</table>\n",
       "</div>"
      ],
      "text/plain": [
       "        status           funded_date location_country_code sector  \\\n",
       "count     6019                  5082                  6002   6019   \n",
       "unique       3                  4453                    30     14   \n",
       "top     funded  2018-07-22T15:54:41Z                    TZ   Food   \n",
       "freq      5082                     9                   400   1738   \n",
       "\n",
       "                                              description                  use  \n",
       "count                                                5677                 5677  \n",
       "unique                                               5277                 4325  \n",
       "top     Zaina is 19-year-old entrepreneur who lives wi...  to pay for a stove.  \n",
       "freq                                                    2                   80  "
      ]
     },
     "execution_count": 21,
     "metadata": {},
     "output_type": "execute_result"
    }
   ],
   "source": [
    "#to get the summary of the object columns\n",
    "#first, let's create a variable that holds the categorical or object data type\n",
    "#then we can get the description using describe method\n",
    "\n",
    "categorical = df.dtypes[df.dtypes=='object'].index\n",
    "df[categorical].describe()"
   ]
  },
  {
   "cell_type": "code",
   "execution_count": 22,
   "id": "abec4099",
   "metadata": {},
   "outputs": [
    {
     "data": {
      "text/plain": [
       "Index(['status', 'funded_date', 'location_country_code', 'sector',\n",
       "       'description', 'use'],\n",
       "      dtype='object')"
      ]
     },
     "execution_count": 22,
     "metadata": {},
     "output_type": "execute_result"
    }
   ],
   "source": [
    "categorical"
   ]
  },
  {
   "cell_type": "markdown",
   "id": "e3233193",
   "metadata": {},
   "source": [
    "In the table above, there are 4 really useful fields:\n",
    "\n",
    "1) count - total number of fields populated (Not empty).\n",
    "\n",
    "2) unique - tells us how many different unique ways this field is populated. For example 4 in description.languages tells us there are 4 different language descriptions.\n",
    "\n",
    "3) top - tells us the most popular data point. For example, the top activity in this dataset is Farming which tells us most loans are in Farming.\n",
    "\n",
    "4) freq - tells us that how frequent the most popular category is in our dataset. For example, 'en' (English) is the language almost all descriptions (description.languages) are written in (118,306 out of 118,316)."
   ]
  },
  {
   "cell_type": "markdown",
   "id": "015f7ba2",
   "metadata": {},
   "source": [
    "#### EDA class 2"
   ]
  },
  {
   "cell_type": "markdown",
   "id": "6c95cf67",
   "metadata": {},
   "source": [
    "our goal today is explore some plotting techniques"
   ]
  },
  {
   "cell_type": "markdown",
   "id": "4fd6aec6",
   "metadata": {},
   "source": [
    "The purpose of this is to \n",
    "- maximize insights into data\n",
    "- uncover any underlying structure\n",
    "- extract important variables\n",
    "- detect outliers and anomalies\n",
    "- test underlying assumptions"
   ]
  },
  {
   "cell_type": "markdown",
   "id": "cb66f248",
   "metadata": {},
   "source": [
    "Now, let's look at the fllg ploting techniques\n",
    "- scatter plot\n",
    "- scatter matrix\n",
    "- Histogram\n",
    "- bar plot \n",
    "- box plot \n",
    "- time series"
   ]
  },
  {
   "cell_type": "code",
   "execution_count": 25,
   "id": "816f128c",
   "metadata": {},
   "outputs": [
    {
     "data": {
      "text/html": [
       "<div>\n",
       "<style scoped>\n",
       "    .dataframe tbody tr th:only-of-type {\n",
       "        vertical-align: middle;\n",
       "    }\n",
       "\n",
       "    .dataframe tbody tr th {\n",
       "        vertical-align: top;\n",
       "    }\n",
       "\n",
       "    .dataframe thead th {\n",
       "        text-align: right;\n",
       "    }\n",
       "</style>\n",
       "<table border=\"1\" class=\"dataframe\">\n",
       "  <thead>\n",
       "    <tr style=\"text-align: right;\">\n",
       "      <th></th>\n",
       "      <th>id_number</th>\n",
       "      <th>loan_amount</th>\n",
       "      <th>lender_count</th>\n",
       "      <th>status</th>\n",
       "      <th>funded_date</th>\n",
       "      <th>funded_amount</th>\n",
       "      <th>repayment_term</th>\n",
       "      <th>location_country_code</th>\n",
       "      <th>sector</th>\n",
       "      <th>description</th>\n",
       "      <th>use</th>\n",
       "    </tr>\n",
       "  </thead>\n",
       "  <tbody>\n",
       "    <tr>\n",
       "      <th>0</th>\n",
       "      <td>736066</td>\n",
       "      <td>4825</td>\n",
       "      <td>60</td>\n",
       "      <td>funded</td>\n",
       "      <td>2014-08-03T17:51:50Z</td>\n",
       "      <td>4825</td>\n",
       "      <td>8</td>\n",
       "      <td>BJ</td>\n",
       "      <td>Retail</td>\n",
       "      <td>NaN</td>\n",
       "      <td>NaN</td>\n",
       "    </tr>\n",
       "    <tr>\n",
       "      <th>1</th>\n",
       "      <td>743090</td>\n",
       "      <td>975</td>\n",
       "      <td>34</td>\n",
       "      <td>funded</td>\n",
       "      <td>2014-08-18T09:10:54Z</td>\n",
       "      <td>975</td>\n",
       "      <td>12</td>\n",
       "      <td>BJ</td>\n",
       "      <td>Food</td>\n",
       "      <td>NaN</td>\n",
       "      <td>NaN</td>\n",
       "    </tr>\n",
       "    <tr>\n",
       "      <th>2</th>\n",
       "      <td>743120</td>\n",
       "      <td>950</td>\n",
       "      <td>25</td>\n",
       "      <td>funded</td>\n",
       "      <td>2014-08-09T17:46:35Z</td>\n",
       "      <td>950</td>\n",
       "      <td>14</td>\n",
       "      <td>BJ</td>\n",
       "      <td>Services</td>\n",
       "      <td>NaN</td>\n",
       "      <td>NaN</td>\n",
       "    </tr>\n",
       "    <tr>\n",
       "      <th>3</th>\n",
       "      <td>743121</td>\n",
       "      <td>825</td>\n",
       "      <td>28</td>\n",
       "      <td>funded</td>\n",
       "      <td>2014-08-24T17:00:38Z</td>\n",
       "      <td>825</td>\n",
       "      <td>14</td>\n",
       "      <td>BJ</td>\n",
       "      <td>Retail</td>\n",
       "      <td>NaN</td>\n",
       "      <td>NaN</td>\n",
       "    </tr>\n",
       "    <tr>\n",
       "      <th>4</th>\n",
       "      <td>743124</td>\n",
       "      <td>725</td>\n",
       "      <td>21</td>\n",
       "      <td>funded</td>\n",
       "      <td>2014-08-25T03:24:54Z</td>\n",
       "      <td>725</td>\n",
       "      <td>13</td>\n",
       "      <td>BJ</td>\n",
       "      <td>Retail</td>\n",
       "      <td>NaN</td>\n",
       "      <td>NaN</td>\n",
       "    </tr>\n",
       "  </tbody>\n",
       "</table>\n",
       "</div>"
      ],
      "text/plain": [
       "   id_number  loan_amount  lender_count  status           funded_date  \\\n",
       "0     736066         4825            60  funded  2014-08-03T17:51:50Z   \n",
       "1     743090          975            34  funded  2014-08-18T09:10:54Z   \n",
       "2     743120          950            25  funded  2014-08-09T17:46:35Z   \n",
       "3     743121          825            28  funded  2014-08-24T17:00:38Z   \n",
       "4     743124          725            21  funded  2014-08-25T03:24:54Z   \n",
       "\n",
       "   funded_amount  repayment_term location_country_code    sector description  \\\n",
       "0           4825               8                    BJ    Retail         NaN   \n",
       "1            975              12                    BJ      Food         NaN   \n",
       "2            950              14                    BJ  Services         NaN   \n",
       "3            825              14                    BJ    Retail         NaN   \n",
       "4            725              13                    BJ    Retail         NaN   \n",
       "\n",
       "   use  \n",
       "0  NaN  \n",
       "1  NaN  \n",
       "2  NaN  \n",
       "3  NaN  \n",
       "4  NaN  "
      ]
     },
     "execution_count": 25,
     "metadata": {},
     "output_type": "execute_result"
    }
   ],
   "source": [
    "df.head()"
   ]
  },
  {
   "cell_type": "markdown",
   "id": "e08b2d20",
   "metadata": {},
   "source": [
    "The process of EDA is to understand our data dsitribution\n",
    "also, the understand the relationship between the features\n",
    "in the data. \n",
    "\n",
    "we are not predicting or using any machine learning algorithm\n"
   ]
  },
  {
   "cell_type": "markdown",
   "id": "8795dcfe",
   "metadata": {},
   "source": [
    "#### 1. Scatter plot \n",
    "this is very popilar and very powerful way to visualize your data\n",
    "and relationship between two continuous features. \n",
    "it  shows us how feature Y chnages when X changes. \n",
    "if there is a clear pattern on the scatter pot, then we can say \n",
    "the features are correlated. \n",
    "\n",
    "We see several outcomes in a scatter plot:\n",
    "- positive linear outcome = when x increases Y increases. the data pooints follow approximately a straight line\n",
    "- Negative linear = Wha x increase, Y decreases\n",
    "- Non linear = When X changes, there is a corresponding but non linear chnage in Y\n",
    "- No correlation = changesin X has no effect on Y. there is no clear pattern "
   ]
  },
  {
   "cell_type": "markdown",
   "id": "89a95eec",
   "metadata": {},
   "source": [
    "Let's use this on two continous column in our data"
   ]
  },
  {
   "cell_type": "code",
   "execution_count": 27,
   "id": "4f0be4e6",
   "metadata": {},
   "outputs": [
    {
     "name": "stdout",
     "output_type": "stream",
     "text": [
      "id_number\n",
      "loan_amount\n",
      "lender_count\n",
      "funded_amount\n",
      "repayment_term\n"
     ]
    }
   ],
   "source": [
    "numeric_var = df.select_dtypes(include=[np.number]).columns.to_list()\n",
    "for var in numeric_var:\n",
    "    print(var)"
   ]
  },
  {
   "cell_type": "markdown",
   "id": "d6994360",
   "metadata": {},
   "source": [
    "Let's check if there is a relationship between lender_count and loan_amunt\n",
    "\n",
    "intuitively, you expect a relationship, let's chek if true"
   ]
  },
  {
   "cell_type": "code",
   "execution_count": 28,
   "id": "cd1e3cb3",
   "metadata": {},
   "outputs": [
    {
     "data": {
      "image/png": "[encoded data removed]",
      "text/plain": [
       "<Figure size 432x288 with 1 Axes>"
      ]
     },
     "metadata": {
      "needs_background": "light"
     },
     "output_type": "display_data"
    }
   ],
   "source": [
    "ax = sns.regplot(x = 'lender_count', y = 'loan_amount', data = df)"
   ]
  },
  {
   "cell_type": "markdown",
   "id": "a8232444",
   "metadata": {},
   "source": [
    "Where does the data follow the line?\n",
    "Where does it not?\n",
    "What elsedo you think this graph is telling you ?\n",
    "Is the relationship between the features positively correlated and or linear?\n",
    "\n",
    "\n",
    "if you want to explore this further, take datapoints corresponding to each cluster\n",
    "(eg,lendder_count < 1000, lender_count between 1000 and 2000 and possibly the rest)\n",
    "then do a scatter plot of the same features, to zoom in on the relationshhip"
   ]
  },
  {
   "cell_type": "markdown",
   "id": "faaaf9cb",
   "metadata": {},
   "source": [
    "What about repayment_term, does it correlate with loan amount "
   ]
  },
  {
   "cell_type": "code",
   "execution_count": 29,
   "id": "fd997195",
   "metadata": {},
   "outputs": [
    {
     "data": {
      "image/png": "[encoded data removed]",
      "text/plain": [
       "<Figure size 432x288 with 1 Axes>"
      ]
     },
     "metadata": {
      "needs_background": "light"
     },
     "output_type": "display_data"
    }
   ],
   "source": [
    "ax = sns.regplot(x = 'repayment_term', y = 'loan_amount', data = df)"
   ]
  },
  {
   "cell_type": "markdown",
   "id": "aea629db",
   "metadata": {},
   "source": [
    "#### 2. Scatter matrix \n",
    "\n",
    "When we have lots of continous variables, we could use a scatterplot matrix to view\n",
    "their relationship with the numerical features. "
   ]
  },
  {
   "cell_type": "code",
   "execution_count": 30,
   "id": "adaf930e",
   "metadata": {},
   "outputs": [],
   "source": [
    "cols = ['lender_count', 'loan_amount', 'status']\n",
    "new_df = df[cols]"
   ]
  },
  {
   "cell_type": "code",
   "execution_count": 31,
   "id": "0f86617c",
   "metadata": {},
   "outputs": [
    {
     "data": {
      "text/html": [
       "<div>\n",
       "<style scoped>\n",
       "    .dataframe tbody tr th:only-of-type {\n",
       "        vertical-align: middle;\n",
       "    }\n",
       "\n",
       "    .dataframe tbody tr th {\n",
       "        vertical-align: top;\n",
       "    }\n",
       "\n",
       "    .dataframe thead th {\n",
       "        text-align: right;\n",
       "    }\n",
       "</style>\n",
       "<table border=\"1\" class=\"dataframe\">\n",
       "  <thead>\n",
       "    <tr style=\"text-align: right;\">\n",
       "      <th></th>\n",
       "      <th>lender_count</th>\n",
       "      <th>loan_amount</th>\n",
       "      <th>status</th>\n",
       "    </tr>\n",
       "  </thead>\n",
       "  <tbody>\n",
       "    <tr>\n",
       "      <th>0</th>\n",
       "      <td>60</td>\n",
       "      <td>4825</td>\n",
       "      <td>funded</td>\n",
       "    </tr>\n",
       "    <tr>\n",
       "      <th>1</th>\n",
       "      <td>34</td>\n",
       "      <td>975</td>\n",
       "      <td>funded</td>\n",
       "    </tr>\n",
       "    <tr>\n",
       "      <th>2</th>\n",
       "      <td>25</td>\n",
       "      <td>950</td>\n",
       "      <td>funded</td>\n",
       "    </tr>\n",
       "    <tr>\n",
       "      <th>3</th>\n",
       "      <td>28</td>\n",
       "      <td>825</td>\n",
       "      <td>funded</td>\n",
       "    </tr>\n",
       "    <tr>\n",
       "      <th>4</th>\n",
       "      <td>21</td>\n",
       "      <td>725</td>\n",
       "      <td>funded</td>\n",
       "    </tr>\n",
       "    <tr>\n",
       "      <th>...</th>\n",
       "      <td>...</td>\n",
       "      <td>...</td>\n",
       "      <td>...</td>\n",
       "    </tr>\n",
       "    <tr>\n",
       "      <th>6014</th>\n",
       "      <td>8</td>\n",
       "      <td>200</td>\n",
       "      <td>funded</td>\n",
       "    </tr>\n",
       "    <tr>\n",
       "      <th>6015</th>\n",
       "      <td>8</td>\n",
       "      <td>200</td>\n",
       "      <td>funded</td>\n",
       "    </tr>\n",
       "    <tr>\n",
       "      <th>6016</th>\n",
       "      <td>6</td>\n",
       "      <td>200</td>\n",
       "      <td>funded</td>\n",
       "    </tr>\n",
       "    <tr>\n",
       "      <th>6017</th>\n",
       "      <td>8</td>\n",
       "      <td>200</td>\n",
       "      <td>funded</td>\n",
       "    </tr>\n",
       "    <tr>\n",
       "      <th>6018</th>\n",
       "      <td>8</td>\n",
       "      <td>200</td>\n",
       "      <td>funded</td>\n",
       "    </tr>\n",
       "  </tbody>\n",
       "</table>\n",
       "<p>6019 rows × 3 columns</p>\n",
       "</div>"
      ],
      "text/plain": [
       "      lender_count  loan_amount  status\n",
       "0               60         4825  funded\n",
       "1               34          975  funded\n",
       "2               25          950  funded\n",
       "3               28          825  funded\n",
       "4               21          725  funded\n",
       "...            ...          ...     ...\n",
       "6014             8          200  funded\n",
       "6015             8          200  funded\n",
       "6016             6          200  funded\n",
       "6017             8          200  funded\n",
       "6018             8          200  funded\n",
       "\n",
       "[6019 rows x 3 columns]"
      ]
     },
     "execution_count": 31,
     "metadata": {},
     "output_type": "execute_result"
    }
   ],
   "source": [
    "new_df"
   ]
  },
  {
   "cell_type": "code",
   "execution_count": 32,
   "id": "0a7fec27",
   "metadata": {},
   "outputs": [
    {
     "data": {
      "text/plain": [
       "<seaborn.axisgrid.PairGrid at 0x225aa88ce20>"
      ]
     },
     "execution_count": 32,
     "metadata": {},
     "output_type": "execute_result"
    },
    {
     "data": {
      "image/png": "[encoded data removed]",
      "text/plain": [
       "<Figure size 452.75x360 with 6 Axes>"
      ]
     },
     "metadata": {
      "needs_background": "light"
     },
     "output_type": "display_data"
    }
   ],
   "source": [
    "#remove NaN so seaborn can plot\n",
    "new_df = new_df.dropna(axis = 0, how = 'any')\n",
    "\n",
    "#create a scatter plot along status distrinution\n",
    "sns.pairplot(new_df, hue='status')"
   ]
  },
  {
   "cell_type": "markdown",
   "id": "4f10095e",
   "metadata": {},
   "source": [
    "What can you say about the plotted data?\n",
    " did this new plot give more info about the features?\n",
    " if yes, what  is the  new detail?"
   ]
  },
  {
   "cell_type": "code",
   "execution_count": 35,
   "id": "6c9100f3",
   "metadata": {},
   "outputs": [
    {
     "data": {
      "text/html": [
       "<div>\n",
       "<style scoped>\n",
       "    .dataframe tbody tr th:only-of-type {\n",
       "        vertical-align: middle;\n",
       "    }\n",
       "\n",
       "    .dataframe tbody tr th {\n",
       "        vertical-align: top;\n",
       "    }\n",
       "\n",
       "    .dataframe thead th {\n",
       "        text-align: right;\n",
       "    }\n",
       "</style>\n",
       "<table border=\"1\" class=\"dataframe\">\n",
       "  <thead>\n",
       "    <tr style=\"text-align: right;\">\n",
       "      <th></th>\n",
       "      <th>lender_count</th>\n",
       "      <th>loan_amount</th>\n",
       "      <th>sector</th>\n",
       "    </tr>\n",
       "  </thead>\n",
       "  <tbody>\n",
       "    <tr>\n",
       "      <th>0</th>\n",
       "      <td>60</td>\n",
       "      <td>4825</td>\n",
       "      <td>Retail</td>\n",
       "    </tr>\n",
       "    <tr>\n",
       "      <th>1</th>\n",
       "      <td>34</td>\n",
       "      <td>975</td>\n",
       "      <td>Food</td>\n",
       "    </tr>\n",
       "    <tr>\n",
       "      <th>2</th>\n",
       "      <td>25</td>\n",
       "      <td>950</td>\n",
       "      <td>Services</td>\n",
       "    </tr>\n",
       "    <tr>\n",
       "      <th>3</th>\n",
       "      <td>28</td>\n",
       "      <td>825</td>\n",
       "      <td>Retail</td>\n",
       "    </tr>\n",
       "    <tr>\n",
       "      <th>4</th>\n",
       "      <td>21</td>\n",
       "      <td>725</td>\n",
       "      <td>Retail</td>\n",
       "    </tr>\n",
       "    <tr>\n",
       "      <th>...</th>\n",
       "      <td>...</td>\n",
       "      <td>...</td>\n",
       "      <td>...</td>\n",
       "    </tr>\n",
       "    <tr>\n",
       "      <th>6014</th>\n",
       "      <td>8</td>\n",
       "      <td>200</td>\n",
       "      <td>Food</td>\n",
       "    </tr>\n",
       "    <tr>\n",
       "      <th>6015</th>\n",
       "      <td>8</td>\n",
       "      <td>200</td>\n",
       "      <td>Food</td>\n",
       "    </tr>\n",
       "    <tr>\n",
       "      <th>6016</th>\n",
       "      <td>6</td>\n",
       "      <td>200</td>\n",
       "      <td>Clothing</td>\n",
       "    </tr>\n",
       "    <tr>\n",
       "      <th>6017</th>\n",
       "      <td>8</td>\n",
       "      <td>200</td>\n",
       "      <td>Food</td>\n",
       "    </tr>\n",
       "    <tr>\n",
       "      <th>6018</th>\n",
       "      <td>8</td>\n",
       "      <td>200</td>\n",
       "      <td>Food</td>\n",
       "    </tr>\n",
       "  </tbody>\n",
       "</table>\n",
       "<p>6019 rows × 3 columns</p>\n",
       "</div>"
      ],
      "text/plain": [
       "      lender_count  loan_amount    sector\n",
       "0               60         4825    Retail\n",
       "1               34          975      Food\n",
       "2               25          950  Services\n",
       "3               28          825    Retail\n",
       "4               21          725    Retail\n",
       "...            ...          ...       ...\n",
       "6014             8          200      Food\n",
       "6015             8          200      Food\n",
       "6016             6          200  Clothing\n",
       "6017             8          200      Food\n",
       "6018             8          200      Food\n",
       "\n",
       "[6019 rows x 3 columns]"
      ]
     },
     "execution_count": 35,
     "metadata": {},
     "output_type": "execute_result"
    }
   ],
   "source": [
    "columns = ['lender_count', 'loan_amount', 'sector']\n",
    "num_df = df[columns]\n",
    "num_df= num_df.dropna(axis = 0, how='any')\n",
    "num_df"
   ]
  },
  {
   "cell_type": "code",
   "execution_count": 36,
   "id": "5f97e34b",
   "metadata": {},
   "outputs": [
    {
     "data": {
      "text/plain": [
       "<seaborn.axisgrid.PairGrid at 0x225ab2342e0>"
      ]
     },
     "execution_count": 36,
     "metadata": {},
     "output_type": "execute_result"
    },
    {
     "data": {
      "image/png": "[encoded data removed]",
      "text/plain": [
       "<Figure size 468.75x360 with 6 Axes>"
      ]
     },
     "metadata": {
      "needs_background": "light"
     },
     "output_type": "display_data"
    }
   ],
   "source": [
    "sns.pairplot(num_df, hue='sector')"
   ]
  },
  {
   "cell_type": "code",
   "execution_count": 37,
   "id": "19b27f11",
   "metadata": {},
   "outputs": [
    {
     "data": {
      "text/html": [
       "<div>\n",
       "<style scoped>\n",
       "    .dataframe tbody tr th:only-of-type {\n",
       "        vertical-align: middle;\n",
       "    }\n",
       "\n",
       "    .dataframe tbody tr th {\n",
       "        vertical-align: top;\n",
       "    }\n",
       "\n",
       "    .dataframe thead th {\n",
       "        text-align: right;\n",
       "    }\n",
       "</style>\n",
       "<table border=\"1\" class=\"dataframe\">\n",
       "  <thead>\n",
       "    <tr style=\"text-align: right;\">\n",
       "      <th></th>\n",
       "      <th>funded_amount</th>\n",
       "      <th>loan_amount</th>\n",
       "      <th>status</th>\n",
       "    </tr>\n",
       "  </thead>\n",
       "  <tbody>\n",
       "    <tr>\n",
       "      <th>0</th>\n",
       "      <td>4825</td>\n",
       "      <td>4825</td>\n",
       "      <td>funded</td>\n",
       "    </tr>\n",
       "    <tr>\n",
       "      <th>1</th>\n",
       "      <td>975</td>\n",
       "      <td>975</td>\n",
       "      <td>funded</td>\n",
       "    </tr>\n",
       "    <tr>\n",
       "      <th>2</th>\n",
       "      <td>950</td>\n",
       "      <td>950</td>\n",
       "      <td>funded</td>\n",
       "    </tr>\n",
       "    <tr>\n",
       "      <th>3</th>\n",
       "      <td>825</td>\n",
       "      <td>825</td>\n",
       "      <td>funded</td>\n",
       "    </tr>\n",
       "    <tr>\n",
       "      <th>4</th>\n",
       "      <td>725</td>\n",
       "      <td>725</td>\n",
       "      <td>funded</td>\n",
       "    </tr>\n",
       "    <tr>\n",
       "      <th>...</th>\n",
       "      <td>...</td>\n",
       "      <td>...</td>\n",
       "      <td>...</td>\n",
       "    </tr>\n",
       "    <tr>\n",
       "      <th>6014</th>\n",
       "      <td>200</td>\n",
       "      <td>200</td>\n",
       "      <td>funded</td>\n",
       "    </tr>\n",
       "    <tr>\n",
       "      <th>6015</th>\n",
       "      <td>200</td>\n",
       "      <td>200</td>\n",
       "      <td>funded</td>\n",
       "    </tr>\n",
       "    <tr>\n",
       "      <th>6016</th>\n",
       "      <td>200</td>\n",
       "      <td>200</td>\n",
       "      <td>funded</td>\n",
       "    </tr>\n",
       "    <tr>\n",
       "      <th>6017</th>\n",
       "      <td>200</td>\n",
       "      <td>200</td>\n",
       "      <td>funded</td>\n",
       "    </tr>\n",
       "    <tr>\n",
       "      <th>6018</th>\n",
       "      <td>200</td>\n",
       "      <td>200</td>\n",
       "      <td>funded</td>\n",
       "    </tr>\n",
       "  </tbody>\n",
       "</table>\n",
       "<p>6019 rows × 3 columns</p>\n",
       "</div>"
      ],
      "text/plain": [
       "      funded_amount  loan_amount  status\n",
       "0              4825         4825  funded\n",
       "1               975          975  funded\n",
       "2               950          950  funded\n",
       "3               825          825  funded\n",
       "4               725          725  funded\n",
       "...             ...          ...     ...\n",
       "6014            200          200  funded\n",
       "6015            200          200  funded\n",
       "6016            200          200  funded\n",
       "6017            200          200  funded\n",
       "6018            200          200  funded\n",
       "\n",
       "[6019 rows x 3 columns]"
      ]
     },
     "execution_count": 37,
     "metadata": {},
     "output_type": "execute_result"
    }
   ],
   "source": [
    "column = ['funded_amount', 'loan_amount', 'status']\n",
    "df2 = df[column]\n",
    "df2= df2.dropna(axis = 0, how='any')\n",
    "df2"
   ]
  },
  {
   "cell_type": "code",
   "execution_count": 38,
   "id": "b8e32458",
   "metadata": {},
   "outputs": [
    {
     "data": {
      "text/plain": [
       "<seaborn.axisgrid.PairGrid at 0x225a8b5ddc0>"
      ]
     },
     "execution_count": 38,
     "metadata": {},
     "output_type": "execute_result"
    },
    {
     "data": {
      "image/png": "[encoded data removed]",
      "text/plain": [
       "<Figure size 452.75x360 with 6 Axes>"
      ]
     },
     "metadata": {
      "needs_background": "light"
     },
     "output_type": "display_data"
    }
   ],
   "source": [
    "sns.pairplot(df2, hue='status')"
   ]
  },
  {
   "cell_type": "markdown",
   "id": "e5116e26",
   "metadata": {},
   "source": [
    "#### 3. Histogram\n",
    "\n",
    "Histogram is useful for looking at the distribution of a single \n",
    "variable. It helps in identifying skewness and consequently \n",
    "outliers. it shows count of the data. "
   ]
  },
  {
   "cell_type": "code",
   "execution_count": 42,
   "id": "23f279f7",
   "metadata": {},
   "outputs": [
    {
     "name": "stderr",
     "output_type": "stream",
     "text": [
      "C:\\Users\\kawba\\anaconda3\\lib\\site-packages\\seaborn\\distributions.py:2619: FutureWarning: `distplot` is a deprecated function and will be removed in a future version. Please adapt your code to use either `displot` (a figure-level function with similar flexibility) or `histplot` (an axes-level function for histograms).\n",
      "  warnings.warn(msg, FutureWarning)\n"
     ]
    },
    {
     "data": {
      "image/png": "[encoded data removed]",
      "text/plain": [
       "<Figure size 432x288 with 1 Axes>"
      ]
     },
     "metadata": {
      "needs_background": "light"
     },
     "output_type": "display_data"
    }
   ],
   "source": [
    "sns.distplot(df.loan_amount.dropna(axis=0));"
   ]
  },
  {
   "cell_type": "markdown",
   "id": "05c61689",
   "metadata": {},
   "source": [
    "Is there a higher occurence of small loans than big loan? How can you tell?\n",
    "Is the distribuion skewed? What migh this type of skewness be telling us?\n",
    "should we handle skewed distribution specially? \n",
    "could the seeming skewness be caused by outliers?"
   ]
  },
  {
   "cell_type": "code",
   "execution_count": 43,
   "id": "275be91c",
   "metadata": {},
   "outputs": [
    {
     "data": {
      "text/html": [
       "<div>\n",
       "<style scoped>\n",
       "    .dataframe tbody tr th:only-of-type {\n",
       "        vertical-align: middle;\n",
       "    }\n",
       "\n",
       "    .dataframe tbody tr th {\n",
       "        vertical-align: top;\n",
       "    }\n",
       "\n",
       "    .dataframe thead th {\n",
       "        text-align: right;\n",
       "    }\n",
       "</style>\n",
       "<table border=\"1\" class=\"dataframe\">\n",
       "  <thead>\n",
       "    <tr style=\"text-align: right;\">\n",
       "      <th></th>\n",
       "      <th>id_number</th>\n",
       "      <th>loan_amount</th>\n",
       "      <th>lender_count</th>\n",
       "      <th>status</th>\n",
       "      <th>funded_date</th>\n",
       "      <th>funded_amount</th>\n",
       "      <th>repayment_term</th>\n",
       "      <th>location_country_code</th>\n",
       "      <th>sector</th>\n",
       "      <th>description</th>\n",
       "      <th>use</th>\n",
       "    </tr>\n",
       "  </thead>\n",
       "  <tbody>\n",
       "    <tr>\n",
       "      <th>0</th>\n",
       "      <td>736066</td>\n",
       "      <td>4825</td>\n",
       "      <td>60</td>\n",
       "      <td>funded</td>\n",
       "      <td>2014-08-03T17:51:50Z</td>\n",
       "      <td>4825</td>\n",
       "      <td>8</td>\n",
       "      <td>BJ</td>\n",
       "      <td>Retail</td>\n",
       "      <td>NaN</td>\n",
       "      <td>NaN</td>\n",
       "    </tr>\n",
       "    <tr>\n",
       "      <th>1</th>\n",
       "      <td>743090</td>\n",
       "      <td>975</td>\n",
       "      <td>34</td>\n",
       "      <td>funded</td>\n",
       "      <td>2014-08-18T09:10:54Z</td>\n",
       "      <td>975</td>\n",
       "      <td>12</td>\n",
       "      <td>BJ</td>\n",
       "      <td>Food</td>\n",
       "      <td>NaN</td>\n",
       "      <td>NaN</td>\n",
       "    </tr>\n",
       "    <tr>\n",
       "      <th>2</th>\n",
       "      <td>743120</td>\n",
       "      <td>950</td>\n",
       "      <td>25</td>\n",
       "      <td>funded</td>\n",
       "      <td>2014-08-09T17:46:35Z</td>\n",
       "      <td>950</td>\n",
       "      <td>14</td>\n",
       "      <td>BJ</td>\n",
       "      <td>Services</td>\n",
       "      <td>NaN</td>\n",
       "      <td>NaN</td>\n",
       "    </tr>\n",
       "    <tr>\n",
       "      <th>3</th>\n",
       "      <td>743121</td>\n",
       "      <td>825</td>\n",
       "      <td>28</td>\n",
       "      <td>funded</td>\n",
       "      <td>2014-08-24T17:00:38Z</td>\n",
       "      <td>825</td>\n",
       "      <td>14</td>\n",
       "      <td>BJ</td>\n",
       "      <td>Retail</td>\n",
       "      <td>NaN</td>\n",
       "      <td>NaN</td>\n",
       "    </tr>\n",
       "    <tr>\n",
       "      <th>4</th>\n",
       "      <td>743124</td>\n",
       "      <td>725</td>\n",
       "      <td>21</td>\n",
       "      <td>funded</td>\n",
       "      <td>2014-08-25T03:24:54Z</td>\n",
       "      <td>725</td>\n",
       "      <td>13</td>\n",
       "      <td>BJ</td>\n",
       "      <td>Retail</td>\n",
       "      <td>NaN</td>\n",
       "      <td>NaN</td>\n",
       "    </tr>\n",
       "    <tr>\n",
       "      <th>...</th>\n",
       "      <td>...</td>\n",
       "      <td>...</td>\n",
       "      <td>...</td>\n",
       "      <td>...</td>\n",
       "      <td>...</td>\n",
       "      <td>...</td>\n",
       "      <td>...</td>\n",
       "      <td>...</td>\n",
       "      <td>...</td>\n",
       "      <td>...</td>\n",
       "      <td>...</td>\n",
       "    </tr>\n",
       "    <tr>\n",
       "      <th>6014</th>\n",
       "      <td>1568871</td>\n",
       "      <td>200</td>\n",
       "      <td>8</td>\n",
       "      <td>funded</td>\n",
       "      <td>2018-07-19T15:14:35Z</td>\n",
       "      <td>200</td>\n",
       "      <td>14</td>\n",
       "      <td>ZW</td>\n",
       "      <td>Food</td>\n",
       "      <td>Sethukelo is a 19-year-old entrepreneur who li...</td>\n",
       "      <td>to purchase goods for starting a grocery store.</td>\n",
       "    </tr>\n",
       "    <tr>\n",
       "      <th>6015</th>\n",
       "      <td>1568880</td>\n",
       "      <td>200</td>\n",
       "      <td>8</td>\n",
       "      <td>funded</td>\n",
       "      <td>2018-07-19T19:22:43Z</td>\n",
       "      <td>200</td>\n",
       "      <td>14</td>\n",
       "      <td>ZW</td>\n",
       "      <td>Food</td>\n",
       "      <td>Hlanjiwe is a 20-year-old entrepreneur who liv...</td>\n",
       "      <td>to buy grocery goods for her business.</td>\n",
       "    </tr>\n",
       "    <tr>\n",
       "      <th>6016</th>\n",
       "      <td>1568883</td>\n",
       "      <td>200</td>\n",
       "      <td>6</td>\n",
       "      <td>funded</td>\n",
       "      <td>2018-07-19T20:18:53Z</td>\n",
       "      <td>200</td>\n",
       "      <td>14</td>\n",
       "      <td>ZW</td>\n",
       "      <td>Clothing</td>\n",
       "      <td>Lebuhani is a 21-year-old entrepreneur who liv...</td>\n",
       "      <td>to buy clothes for her business.</td>\n",
       "    </tr>\n",
       "    <tr>\n",
       "      <th>6017</th>\n",
       "      <td>1568887</td>\n",
       "      <td>200</td>\n",
       "      <td>8</td>\n",
       "      <td>funded</td>\n",
       "      <td>2018-07-18T23:38:44Z</td>\n",
       "      <td>200</td>\n",
       "      <td>14</td>\n",
       "      <td>ZW</td>\n",
       "      <td>Food</td>\n",
       "      <td>Jacqueline is a 23-year-old entrepreneur who l...</td>\n",
       "      <td>her to buy goods to sell in her store.</td>\n",
       "    </tr>\n",
       "    <tr>\n",
       "      <th>6018</th>\n",
       "      <td>1568890</td>\n",
       "      <td>200</td>\n",
       "      <td>8</td>\n",
       "      <td>funded</td>\n",
       "      <td>2018-07-19T16:54:18Z</td>\n",
       "      <td>200</td>\n",
       "      <td>14</td>\n",
       "      <td>ZW</td>\n",
       "      <td>Food</td>\n",
       "      <td>Delligent is a 23-year-old entrepreneur who li...</td>\n",
       "      <td>to buy grocery goods for her business.</td>\n",
       "    </tr>\n",
       "  </tbody>\n",
       "</table>\n",
       "<p>5611 rows × 11 columns</p>\n",
       "</div>"
      ],
      "text/plain": [
       "      id_number  loan_amount  lender_count  status           funded_date  \\\n",
       "0        736066         4825            60  funded  2014-08-03T17:51:50Z   \n",
       "1        743090          975            34  funded  2014-08-18T09:10:54Z   \n",
       "2        743120          950            25  funded  2014-08-09T17:46:35Z   \n",
       "3        743121          825            28  funded  2014-08-24T17:00:38Z   \n",
       "4        743124          725            21  funded  2014-08-25T03:24:54Z   \n",
       "...         ...          ...           ...     ...                   ...   \n",
       "6014    1568871          200             8  funded  2018-07-19T15:14:35Z   \n",
       "6015    1568880          200             8  funded  2018-07-19T19:22:43Z   \n",
       "6016    1568883          200             6  funded  2018-07-19T20:18:53Z   \n",
       "6017    1568887          200             8  funded  2018-07-18T23:38:44Z   \n",
       "6018    1568890          200             8  funded  2018-07-19T16:54:18Z   \n",
       "\n",
       "      funded_amount  repayment_term location_country_code    sector  \\\n",
       "0              4825               8                    BJ    Retail   \n",
       "1               975              12                    BJ      Food   \n",
       "2               950              14                    BJ  Services   \n",
       "3               825              14                    BJ    Retail   \n",
       "4               725              13                    BJ    Retail   \n",
       "...             ...             ...                   ...       ...   \n",
       "6014            200              14                    ZW      Food   \n",
       "6015            200              14                    ZW      Food   \n",
       "6016            200              14                    ZW  Clothing   \n",
       "6017            200              14                    ZW      Food   \n",
       "6018            200              14                    ZW      Food   \n",
       "\n",
       "                                            description  \\\n",
       "0                                                   NaN   \n",
       "1                                                   NaN   \n",
       "2                                                   NaN   \n",
       "3                                                   NaN   \n",
       "4                                                   NaN   \n",
       "...                                                 ...   \n",
       "6014  Sethukelo is a 19-year-old entrepreneur who li...   \n",
       "6015  Hlanjiwe is a 20-year-old entrepreneur who liv...   \n",
       "6016  Lebuhani is a 21-year-old entrepreneur who liv...   \n",
       "6017  Jacqueline is a 23-year-old entrepreneur who l...   \n",
       "6018  Delligent is a 23-year-old entrepreneur who li...   \n",
       "\n",
       "                                                  use  \n",
       "0                                                 NaN  \n",
       "1                                                 NaN  \n",
       "2                                                 NaN  \n",
       "3                                                 NaN  \n",
       "4                                                 NaN  \n",
       "...                                               ...  \n",
       "6014  to purchase goods for starting a grocery store.  \n",
       "6015           to buy grocery goods for her business.  \n",
       "6016                 to buy clothes for her business.  \n",
       "6017           her to buy goods to sell in her store.  \n",
       "6018           to buy grocery goods for her business.  \n",
       "\n",
       "[5611 rows x 11 columns]"
      ]
     },
     "execution_count": 43,
     "metadata": {},
     "output_type": "execute_result"
    }
   ],
   "source": [
    "#let's look at loan amonut below 5000\n",
    "\n",
    "small_loan = df[(df['loan_amount']<5000)]\n",
    "small_loan"
   ]
  },
  {
   "cell_type": "code",
   "execution_count": 73,
   "id": "79ca3070",
   "metadata": {},
   "outputs": [
    {
     "data": {
      "text/plain": [
       "<AxesSubplot:xlabel='loan_amount', ylabel='Count'>"
      ]
     },
     "execution_count": 73,
     "metadata": {},
     "output_type": "execute_result"
    },
    {
     "data": {
      "image/png": "[encoded data removed]",
      "text/plain": [
       "<Figure size 432x288 with 1 Axes>"
      ]
     },
     "metadata": {
      "needs_background": "light"
     },
     "output_type": "display_data"
    }
   ],
   "source": [
    "sns.histplot(small_loan['loan_amount'])"
   ]
  },
  {
   "cell_type": "code",
   "execution_count": 44,
   "id": "77b52d69",
   "metadata": {},
   "outputs": [
    {
     "name": "stderr",
     "output_type": "stream",
     "text": [
      "C:\\Users\\kawba\\anaconda3\\lib\\site-packages\\seaborn\\distributions.py:2619: FutureWarning: `distplot` is a deprecated function and will be removed in a future version. Please adapt your code to use either `displot` (a figure-level function with similar flexibility) or `histplot` (an axes-level function for histograms).\n",
      "  warnings.warn(msg, FutureWarning)\n"
     ]
    },
    {
     "data": {
      "text/plain": [
       "<AxesSubplot:xlabel='loan_amount', ylabel='Density'>"
      ]
     },
     "execution_count": 44,
     "metadata": {},
     "output_type": "execute_result"
    },
    {
     "data": {
      "image/png": "[encoded data removed]",
      "text/plain": [
       "<Figure size 432x288 with 1 Axes>"
      ]
     },
     "metadata": {
      "needs_background": "light"
     },
     "output_type": "display_data"
    }
   ],
   "source": [
    "sns.distplot(small_loan['loan_amount'])"
   ]
  },
  {
   "cell_type": "markdown",
   "id": "b59b7373",
   "metadata": {},
   "source": [
    "#### 4. Bar plot"
   ]
  },
  {
   "cell_type": "markdown",
   "id": "9f525613",
   "metadata": {},
   "source": [
    "Bar plot helps us visualisehow categrorical groups are different with respect to a contnous variable"
   ]
  },
  {
   "cell_type": "code",
   "execution_count": 52,
   "id": "dd21fdb8",
   "metadata": {},
   "outputs": [
    {
     "data": {
      "image/png": "[encoded data removed]",
      "text/plain": [
       "<Figure size 432x288 with 1 Axes>"
      ]
     },
     "metadata": {
      "needs_background": "light"
     },
     "output_type": "display_data"
    }
   ],
   "source": [
    "p = sns.barplot(x = 'sector', y= 'loan_amount',\n",
    "               data = df, estimator=np.mean );\n",
    "p.set(title = 'Average loan amount by sector')\n",
    "p.set_xticklabels(p.get_xticklabels(), rotation = -45);"
   ]
  },
  {
   "cell_type": "code",
   "execution_count": 57,
   "id": "e2e6d6ea",
   "metadata": {},
   "outputs": [
    {
     "data": {
      "image/png": "[encoded data removed]",
      "text/plain": [
       "<Figure size 432x288 with 1 Axes>"
      ]
     },
     "metadata": {
      "needs_background": "light"
     },
     "output_type": "display_data"
    }
   ],
   "source": [
    "p = sns.barplot(x = 'sector', y= 'loan_amount',\n",
    "               data = df, estimator=np.sum );\n",
    "p.set(title = 'Total loan amount by sector')\n",
    "p.set_xticklabels(p.get_xticklabels(), rotation = -45);"
   ]
  },
  {
   "cell_type": "markdown",
   "id": "4b7a4e14",
   "metadata": {},
   "source": [
    "1. For graphs, which sector has the larget total and average loan amnt?\n",
    "2. If the sectors are different why do you think this happened"
   ]
  },
  {
   "cell_type": "markdown",
   "id": "ddf6ec4c",
   "metadata": {},
   "source": [
    "#### 6. Box plot\n",
    "\n",
    "A box plot describes five major summaries (min, the first quartile, \n",
    "secnd quartile/median, third quartile and max).\n",
    "\n",
    "- The centra rectangle spans the first quatile to the 3rd (IQR). \n",
    "- a segment(line) in the rectangle shows the median\n",
    "- the whiskers above and below the plot  shows the max and min values "
   ]
  },
  {
   "cell_type": "code",
   "execution_count": 54,
   "id": "2547f810",
   "metadata": {},
   "outputs": [
    {
     "data": {
      "text/html": [
       "<div>\n",
       "<style scoped>\n",
       "    .dataframe tbody tr th:only-of-type {\n",
       "        vertical-align: middle;\n",
       "    }\n",
       "\n",
       "    .dataframe tbody tr th {\n",
       "        vertical-align: top;\n",
       "    }\n",
       "\n",
       "    .dataframe thead th {\n",
       "        text-align: right;\n",
       "    }\n",
       "</style>\n",
       "<table border=\"1\" class=\"dataframe\">\n",
       "  <thead>\n",
       "    <tr style=\"text-align: right;\">\n",
       "      <th></th>\n",
       "      <th>id_number</th>\n",
       "      <th>loan_amount</th>\n",
       "      <th>lender_count</th>\n",
       "      <th>status</th>\n",
       "      <th>funded_date</th>\n",
       "      <th>funded_amount</th>\n",
       "      <th>repayment_term</th>\n",
       "      <th>location_country_code</th>\n",
       "      <th>sector</th>\n",
       "      <th>description</th>\n",
       "      <th>use</th>\n",
       "    </tr>\n",
       "  </thead>\n",
       "  <tbody>\n",
       "    <tr>\n",
       "      <th>0</th>\n",
       "      <td>736066</td>\n",
       "      <td>4825</td>\n",
       "      <td>60</td>\n",
       "      <td>funded</td>\n",
       "      <td>2014-08-03T17:51:50Z</td>\n",
       "      <td>4825</td>\n",
       "      <td>8</td>\n",
       "      <td>BJ</td>\n",
       "      <td>Retail</td>\n",
       "      <td>NaN</td>\n",
       "      <td>NaN</td>\n",
       "    </tr>\n",
       "    <tr>\n",
       "      <th>3</th>\n",
       "      <td>743121</td>\n",
       "      <td>825</td>\n",
       "      <td>28</td>\n",
       "      <td>funded</td>\n",
       "      <td>2014-08-24T17:00:38Z</td>\n",
       "      <td>825</td>\n",
       "      <td>14</td>\n",
       "      <td>BJ</td>\n",
       "      <td>Retail</td>\n",
       "      <td>NaN</td>\n",
       "      <td>NaN</td>\n",
       "    </tr>\n",
       "    <tr>\n",
       "      <th>4</th>\n",
       "      <td>743124</td>\n",
       "      <td>725</td>\n",
       "      <td>21</td>\n",
       "      <td>funded</td>\n",
       "      <td>2014-08-25T03:24:54Z</td>\n",
       "      <td>725</td>\n",
       "      <td>13</td>\n",
       "      <td>BJ</td>\n",
       "      <td>Retail</td>\n",
       "      <td>NaN</td>\n",
       "      <td>NaN</td>\n",
       "    </tr>\n",
       "    <tr>\n",
       "      <th>5</th>\n",
       "      <td>743125</td>\n",
       "      <td>725</td>\n",
       "      <td>27</td>\n",
       "      <td>funded</td>\n",
       "      <td>2014-08-18T23:08:00Z</td>\n",
       "      <td>725</td>\n",
       "      <td>13</td>\n",
       "      <td>BJ</td>\n",
       "      <td>Retail</td>\n",
       "      <td>NaN</td>\n",
       "      <td>NaN</td>\n",
       "    </tr>\n",
       "    <tr>\n",
       "      <th>6</th>\n",
       "      <td>743130</td>\n",
       "      <td>725</td>\n",
       "      <td>27</td>\n",
       "      <td>funded</td>\n",
       "      <td>2014-08-19T12:14:49Z</td>\n",
       "      <td>725</td>\n",
       "      <td>13</td>\n",
       "      <td>BJ</td>\n",
       "      <td>Retail</td>\n",
       "      <td>NaN</td>\n",
       "      <td>NaN</td>\n",
       "    </tr>\n",
       "    <tr>\n",
       "      <th>...</th>\n",
       "      <td>...</td>\n",
       "      <td>...</td>\n",
       "      <td>...</td>\n",
       "      <td>...</td>\n",
       "      <td>...</td>\n",
       "      <td>...</td>\n",
       "      <td>...</td>\n",
       "      <td>...</td>\n",
       "      <td>...</td>\n",
       "      <td>...</td>\n",
       "      <td>...</td>\n",
       "    </tr>\n",
       "    <tr>\n",
       "      <th>5990</th>\n",
       "      <td>1569437</td>\n",
       "      <td>200</td>\n",
       "      <td>5</td>\n",
       "      <td>funded</td>\n",
       "      <td>2018-07-20T13:34:34Z</td>\n",
       "      <td>200</td>\n",
       "      <td>14</td>\n",
       "      <td>ZW</td>\n",
       "      <td>Retail</td>\n",
       "      <td>Anna is an 18-year-old entrepreneur who lives ...</td>\n",
       "      <td>to start her own grocery shop, selling sweets,...</td>\n",
       "    </tr>\n",
       "    <tr>\n",
       "      <th>5991</th>\n",
       "      <td>1569452</td>\n",
       "      <td>200</td>\n",
       "      <td>8</td>\n",
       "      <td>funded</td>\n",
       "      <td>2018-07-21T15:30:14Z</td>\n",
       "      <td>200</td>\n",
       "      <td>14</td>\n",
       "      <td>ZW</td>\n",
       "      <td>Retail</td>\n",
       "      <td>Beverly is a 21-year-old entrepreneur who live...</td>\n",
       "      <td>to purchase more groceries to sell and expand ...</td>\n",
       "    </tr>\n",
       "    <tr>\n",
       "      <th>5994</th>\n",
       "      <td>1569464</td>\n",
       "      <td>200</td>\n",
       "      <td>8</td>\n",
       "      <td>funded</td>\n",
       "      <td>2018-07-21T11:30:11Z</td>\n",
       "      <td>200</td>\n",
       "      <td>14</td>\n",
       "      <td>ZW</td>\n",
       "      <td>Retail</td>\n",
       "      <td>Princess is a 20-year-old entrepreneur who liv...</td>\n",
       "      <td>to purchase hair products.</td>\n",
       "    </tr>\n",
       "    <tr>\n",
       "      <th>5995</th>\n",
       "      <td>1569471</td>\n",
       "      <td>200</td>\n",
       "      <td>7</td>\n",
       "      <td>funded</td>\n",
       "      <td>2018-07-20T14:19:48Z</td>\n",
       "      <td>200</td>\n",
       "      <td>14</td>\n",
       "      <td>ZW</td>\n",
       "      <td>Retail</td>\n",
       "      <td>Edith is a 23-year-old entrepreneur who lives ...</td>\n",
       "      <td>to start her own grocery shop selling differen...</td>\n",
       "    </tr>\n",
       "    <tr>\n",
       "      <th>6012</th>\n",
       "      <td>1568857</td>\n",
       "      <td>200</td>\n",
       "      <td>7</td>\n",
       "      <td>funded</td>\n",
       "      <td>2018-07-19T02:00:45Z</td>\n",
       "      <td>200</td>\n",
       "      <td>14</td>\n",
       "      <td>ZW</td>\n",
       "      <td>Retail</td>\n",
       "      <td>Clara is a 19-year-old entrepreneur who lives ...</td>\n",
       "      <td>to start her own grocery shop, where she will ...</td>\n",
       "    </tr>\n",
       "  </tbody>\n",
       "</table>\n",
       "<p>1314 rows × 11 columns</p>\n",
       "</div>"
      ],
      "text/plain": [
       "      id_number  loan_amount  lender_count  status           funded_date  \\\n",
       "0        736066         4825            60  funded  2014-08-03T17:51:50Z   \n",
       "3        743121          825            28  funded  2014-08-24T17:00:38Z   \n",
       "4        743124          725            21  funded  2014-08-25T03:24:54Z   \n",
       "5        743125          725            27  funded  2014-08-18T23:08:00Z   \n",
       "6        743130          725            27  funded  2014-08-19T12:14:49Z   \n",
       "...         ...          ...           ...     ...                   ...   \n",
       "5990    1569437          200             5  funded  2018-07-20T13:34:34Z   \n",
       "5991    1569452          200             8  funded  2018-07-21T15:30:14Z   \n",
       "5994    1569464          200             8  funded  2018-07-21T11:30:11Z   \n",
       "5995    1569471          200             7  funded  2018-07-20T14:19:48Z   \n",
       "6012    1568857          200             7  funded  2018-07-19T02:00:45Z   \n",
       "\n",
       "      funded_amount  repayment_term location_country_code  sector  \\\n",
       "0              4825               8                    BJ  Retail   \n",
       "3               825              14                    BJ  Retail   \n",
       "4               725              13                    BJ  Retail   \n",
       "5               725              13                    BJ  Retail   \n",
       "6               725              13                    BJ  Retail   \n",
       "...             ...             ...                   ...     ...   \n",
       "5990            200              14                    ZW  Retail   \n",
       "5991            200              14                    ZW  Retail   \n",
       "5994            200              14                    ZW  Retail   \n",
       "5995            200              14                    ZW  Retail   \n",
       "6012            200              14                    ZW  Retail   \n",
       "\n",
       "                                            description  \\\n",
       "0                                                   NaN   \n",
       "3                                                   NaN   \n",
       "4                                                   NaN   \n",
       "5                                                   NaN   \n",
       "6                                                   NaN   \n",
       "...                                                 ...   \n",
       "5990  Anna is an 18-year-old entrepreneur who lives ...   \n",
       "5991  Beverly is a 21-year-old entrepreneur who live...   \n",
       "5994  Princess is a 20-year-old entrepreneur who liv...   \n",
       "5995  Edith is a 23-year-old entrepreneur who lives ...   \n",
       "6012  Clara is a 19-year-old entrepreneur who lives ...   \n",
       "\n",
       "                                                    use  \n",
       "0                                                   NaN  \n",
       "3                                                   NaN  \n",
       "4                                                   NaN  \n",
       "5                                                   NaN  \n",
       "6                                                   NaN  \n",
       "...                                                 ...  \n",
       "5990  to start her own grocery shop, selling sweets,...  \n",
       "5991  to purchase more groceries to sell and expand ...  \n",
       "5994                         to purchase hair products.  \n",
       "5995  to start her own grocery shop selling differen...  \n",
       "6012  to start her own grocery shop, where she will ...  \n",
       "\n",
       "[1314 rows x 11 columns]"
      ]
     },
     "execution_count": 54,
     "metadata": {},
     "output_type": "execute_result"
    }
   ],
   "source": [
    "df_retail = df[df.sector=='Retail']\n",
    "df_retail"
   ]
  },
  {
   "cell_type": "code",
   "execution_count": 55,
   "id": "60296ea3",
   "metadata": {},
   "outputs": [
    {
     "data": {
      "image/png": "[encoded data removed]",
      "text/plain": [
       "<Figure size 432x288 with 1 Axes>"
      ]
     },
     "metadata": {
      "needs_background": "light"
     },
     "output_type": "display_data"
    }
   ],
   "source": [
    "sector = 'Retail'\n",
    "df_sector = df[df.sector==sector]\n",
    "p = sns.boxplot(x ='sector', y = 'loan_amount', \n",
    "                data = df_sector)\n",
    "\n",
    "p.set(title=f'Loan amounts for {sector}')\n",
    "p.set_xticklabels(p.get_xticklabels(), rotation = -45);"
   ]
  },
  {
   "cell_type": "code",
   "execution_count": 61,
   "id": "5d003b8f",
   "metadata": {},
   "outputs": [
    {
     "data": {
      "image/png": "[encoded data removed]",
      "text/plain": [
       "<Figure size 504x1440 with 1 Axes>"
      ]
     },
     "metadata": {
      "needs_background": "light"
     },
     "output_type": "display_data"
    }
   ],
   "source": [
    "fig, p = plt.subplots(figsize = (7, 20))\n",
    "sector = 'Health'\n",
    "df_sector = df[df.sector==sector]\n",
    "p = sns.boxplot(x ='sector', y = 'loan_amount', \n",
    "                data = df_sector)\n",
    "\n",
    "p.set(title=f'Loan amounts for {sector}')\n",
    "p.set_xticklabels(p.get_xticklabels(), rotation = -45);\n",
    "plt.show()"
   ]
  },
  {
   "cell_type": "markdown",
   "id": "5f2ee51f",
   "metadata": {},
   "source": [
    "#### 7. Time dependency\n",
    "\n",
    "variables can change and luckily we have a time column.\n",
    "Let's create a plot showwing loan amount over time"
   ]
  },
  {
   "cell_type": "code",
   "execution_count": 63,
   "id": "e385eee9",
   "metadata": {},
   "outputs": [],
   "source": [
    "#convert the date column to a datetime object\n",
    "time_col = 'funded_date'\n",
    "df[time_col] = pd.to_datetime(df[time_col])"
   ]
  },
  {
   "cell_type": "code",
   "execution_count": 65,
   "id": "a9bddc30",
   "metadata": {},
   "outputs": [
    {
     "data": {
      "text/plain": [
       "datetime64[ns, UTC]"
      ]
     },
     "execution_count": 65,
     "metadata": {},
     "output_type": "execute_result"
    }
   ],
   "source": [
    "df.funded_date.dtype"
   ]
  },
  {
   "cell_type": "code",
   "execution_count": 66,
   "id": "90f53976",
   "metadata": {},
   "outputs": [
    {
     "data": {
      "text/plain": [
       "0      2014-08-03 17:51:50+00:00\n",
       "1      2014-08-18 09:10:54+00:00\n",
       "2      2014-08-09 17:46:35+00:00\n",
       "3      2014-08-24 17:00:38+00:00\n",
       "4      2014-08-25 03:24:54+00:00\n",
       "                  ...           \n",
       "6014   2018-07-19 15:14:35+00:00\n",
       "6015   2018-07-19 19:22:43+00:00\n",
       "6016   2018-07-19 20:18:53+00:00\n",
       "6017   2018-07-18 23:38:44+00:00\n",
       "6018   2018-07-19 16:54:18+00:00\n",
       "Name: funded_date, Length: 6019, dtype: datetime64[ns, UTC]"
      ]
     },
     "execution_count": 66,
     "metadata": {},
     "output_type": "execute_result"
    }
   ],
   "source": [
    "df.funded_date"
   ]
  },
  {
   "cell_type": "code",
   "execution_count": 67,
   "id": "586413f7",
   "metadata": {},
   "outputs": [
    {
     "data": {
      "text/plain": [
       "funded_date\n",
       "2007-07-31 00:00:00+00:00     800.000000\n",
       "2007-08-31 00:00:00+00:00     934.375000\n",
       "2007-09-30 00:00:00+00:00    1034.482759\n",
       "2007-10-31 00:00:00+00:00    1033.620690\n",
       "2007-11-30 00:00:00+00:00     937.500000\n",
       "                                ...     \n",
       "2018-03-31 00:00:00+00:00    1884.677419\n",
       "2018-04-30 00:00:00+00:00    2172.627737\n",
       "2018-05-31 00:00:00+00:00    2248.090692\n",
       "2018-06-30 00:00:00+00:00    1594.431818\n",
       "2018-07-31 00:00:00+00:00     792.637232\n",
       "Name: loan_amount, Length: 133, dtype: float64"
      ]
     },
     "execution_count": 67,
     "metadata": {},
     "output_type": "execute_result"
    }
   ],
   "source": [
    "#resample the date to monthy intervals, take the mean of the loan amount\n",
    "#for that month \n",
    "#what you now have is an array with timestamp/month as index\n",
    "#and mean as the value\n",
    "\n",
    "time_data= df.resample('M', on =time_col)['loan_amount'].mean().fillna(0)\n",
    "time_data"
   ]
  },
  {
   "cell_type": "code",
   "execution_count": 68,
   "id": "c8834cd6",
   "metadata": {},
   "outputs": [
    {
     "data": {
      "text/plain": [
       "Text(0.5, 1.0, 'Mean loan amount per month')"
      ]
     },
     "execution_count": 68,
     "metadata": {},
     "output_type": "execute_result"
    },
    {
     "data": {
      "image/png": "[encoded data removed]",
      "text/plain": [
       "<Figure size 1080x576 with 1 Axes>"
      ]
     },
     "metadata": {
      "needs_background": "light"
     },
     "output_type": "display_data"
    }
   ],
   "source": [
    "fig, ax = plt.subplots(figsize = (15, 8))\n",
    "ax.plot(time_data)\n",
    "plt.title('Mean loan amount per month')"
   ]
  },
  {
   "cell_type": "code",
   "execution_count": 69,
   "id": "5699897d",
   "metadata": {},
   "outputs": [
    {
     "data": {
      "text/plain": [
       "Text(0.5, 1.0, 'Mean loan amount per week')"
      ]
     },
     "execution_count": 69,
     "metadata": {},
     "output_type": "execute_result"
    },
    {
     "data": {
      "image/png": "[encoded data removed]",
      "text/plain": [
       "<Figure size 1080x576 with 1 Axes>"
      ]
     },
     "metadata": {
      "needs_background": "light"
     },
     "output_type": "display_data"
    }
   ],
   "source": [
    "time_data= df.resample('7D', on =time_col)['loan_amount'].mean().fillna(0)\n",
    "time_data\n",
    "fig, ax = plt.subplots(figsize = (15, 8))\n",
    "ax.plot(time_data)\n",
    "plt.title('Mean loan amount per week')"
   ]
  },
  {
   "cell_type": "code",
   "execution_count": null,
   "id": "32c767af",
   "metadata": {},
   "outputs": [],
   "source": []
  },
  {
   "cell_type": "markdown",
   "id": "5061cf9c",
   "metadata": {},
   "source": [
    "from https://github.com/AISaturdaysLagos/cohort7_classes/blob/main/Week4__Visualization_Data_Exploration/1_module_introduction_pandas/1_4_loading_and_understanding_data.ipynb"
   ]
  },
  {
   "cell_type": "code",
   "execution_count": null,
   "id": "bc52097f",
   "metadata": {},
   "outputs": [],
   "source": []
  }
 ],
 "metadata": {
  "kernelspec": {
   "display_name": "Python 3 (ipykernel)",
   "language": "python",
   "name": "python3"
  },
  "language_info": {
   "codemirror_mode": {
    "name": "ipython",
    "version": 3
   },
   "file_extension": ".py",
   "mimetype": "text/x-python",
   "name": "python",
   "nbconvert_exporter": "python",
   "pygments_lexer": "ipython3",
   "version": "3.8.8"
  }
 },
 "nbformat": 4,
 "nbformat_minor": 5
}
